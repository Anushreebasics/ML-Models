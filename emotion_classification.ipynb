{
  "metadata": {
    "kernelspec": {
      "language": "python",
      "display_name": "Python 3",
      "name": "python3"
    },
    "language_info": {
      "name": "python",
      "version": "3.7.12",
      "mimetype": "text/x-python",
      "codemirror_mode": {
        "name": "ipython",
        "version": 3
      },
      "pygments_lexer": "ipython3",
      "nbconvert_exporter": "python",
      "file_extension": ".py"
    },
    "kaggle": {
      "accelerator": "none",
      "dataSources": [
        {
          "sourceId": 2222182,
          "sourceType": "datasetVersion",
          "datasetId": 1334611
        }
      ],
      "dockerImageVersionId": 30407,
      "isInternetEnabled": false,
      "language": "python",
      "sourceType": "notebook",
      "isGpuEnabled": false
    },
    "colab": {
      "provenance": [],
      "include_colab_link": true
    }
  },
  "nbformat_minor": 0,
  "nbformat": 4,
  "cells": [
    {
      "cell_type": "markdown",
      "metadata": {
        "id": "view-in-github",
        "colab_type": "text"
      },
      "source": [
        "<a href=\"https://colab.research.google.com/github/namita0210/ML-Models/blob/task2/emotion_classification.ipynb\" target=\"_parent\"><img src=\"https://colab.research.google.com/assets/colab-badge.svg\" alt=\"Open In Colab\"/></a>"
      ]
    },
    {
      "cell_type": "markdown",
      "source": [
        "# Natural Language Processing"
      ],
      "metadata": {
        "_uuid": "8f2839f25d086af736a60e9eeb907d3b93b6e0e5",
        "_cell_guid": "b1076dfc-b9ad-4769-8c92-a6c4dae69d19",
        "id": "yYnfR9RnjVsn"
      }
    },
    {
      "cell_type": "markdown",
      "source": [
        "# Libraries"
      ],
      "metadata": {
        "id": "_H63C62FjVst"
      }
    },
    {
      "cell_type": "code",
      "source": [
        "import pandas as pd\n",
        "import numpy as np\n",
        "import seaborn as sns\n",
        "import matplotlib.pyplot as plt\n",
        "import numpy as np\n",
        "import nltk\n",
        "import re\n",
        "import random\n",
        "from sklearn.feature_extraction.text import CountVectorizer\n",
        "from sklearn.model_selection import train_test_split\n",
        "from sklearn.naive_bayes import MultinomialNB\n",
        "from sklearn.metrics import accuracy_score,confusion_matrix"
      ],
      "metadata": {
        "execution": {
          "iopub.status.busy": "2024-01-04T03:33:43.747154Z",
          "iopub.execute_input": "2024-01-04T03:33:43.747805Z",
          "iopub.status.idle": "2024-01-04T03:33:43.757722Z",
          "shell.execute_reply.started": "2024-01-04T03:33:43.747742Z",
          "shell.execute_reply": "2024-01-04T03:33:43.756401Z"
        },
        "trusted": true,
        "id": "D7hXLAwHjVsv"
      },
      "execution_count": null,
      "outputs": []
    },
    {
      "cell_type": "markdown",
      "source": [
        "# NLTK Libraries Download"
      ],
      "metadata": {
        "id": "T5DSH9ezjVsx"
      }
    },
    {
      "cell_type": "code",
      "source": [
        "nltk.download(\"stopwords\")\n",
        "stop_words_english = nltk.corpus.stopwords.words(\"english\")"
      ],
      "metadata": {
        "execution": {
          "iopub.status.busy": "2024-01-04T03:33:43.773579Z",
          "iopub.execute_input": "2024-01-04T03:33:43.774310Z",
          "iopub.status.idle": "2024-01-04T03:34:03.818680Z",
          "shell.execute_reply.started": "2024-01-04T03:33:43.774265Z",
          "shell.execute_reply": "2024-01-04T03:34:03.817025Z"
        },
        "trusted": true,
        "id": "JdHFFIcejVsx",
        "outputId": "4b2a55d4-8696-449c-d55f-9d99bcfaf5d1"
      },
      "execution_count": null,
      "outputs": [
        {
          "name": "stdout",
          "text": "[nltk_data] Error loading stopwords: <urlopen error [Errno -3]\n[nltk_data]     Temporary failure in name resolution>\n",
          "output_type": "stream"
        }
      ]
    },
    {
      "cell_type": "code",
      "source": [
        "print(f\"TOTAL LENGHT OF STOP WORDS IN ENGLISH: {len(stop_words_english)}\")"
      ],
      "metadata": {
        "execution": {
          "iopub.status.busy": "2024-01-04T03:34:03.821901Z",
          "iopub.execute_input": "2024-01-04T03:34:03.822446Z",
          "iopub.status.idle": "2024-01-04T03:34:03.832194Z",
          "shell.execute_reply.started": "2024-01-04T03:34:03.822394Z",
          "shell.execute_reply": "2024-01-04T03:34:03.830281Z"
        },
        "trusted": true,
        "id": "Qoq5lMpMjVsz",
        "outputId": "b883082c-221c-41c0-bd02-00518a51efab"
      },
      "execution_count": null,
      "outputs": [
        {
          "name": "stdout",
          "text": "TOTAL LENGHT OF STOP WORDS IN ENGLISH: 179\n",
          "output_type": "stream"
        }
      ]
    },
    {
      "cell_type": "markdown",
      "source": [
        "# Path & Process"
      ],
      "metadata": {
        "id": "RCUCiGk3jVs0"
      }
    },
    {
      "cell_type": "code",
      "source": [
        "train_path = \"/kaggle/input/emotion-classification-nlp/emotion-labels-train.csv\"\n",
        "validation_path = \"/kaggle/input/emotion-classification-nlp/emotion-labels-val.csv\"\n",
        "test_path = \"/kaggle/input/emotion-classification-nlp/emotion-labels-test.csv\""
      ],
      "metadata": {
        "execution": {
          "iopub.status.busy": "2024-01-04T03:34:03.837771Z",
          "iopub.execute_input": "2024-01-04T03:34:03.838351Z",
          "iopub.status.idle": "2024-01-04T03:34:03.846496Z",
          "shell.execute_reply.started": "2024-01-04T03:34:03.838283Z",
          "shell.execute_reply": "2024-01-04T03:34:03.845056Z"
        },
        "trusted": true,
        "id": "wAxVAri3jVs0"
      },
      "execution_count": null,
      "outputs": []
    },
    {
      "cell_type": "markdown",
      "source": [
        "#### READING"
      ],
      "metadata": {
        "id": "ewD84PiqjVs1"
      }
    },
    {
      "cell_type": "code",
      "source": [
        "train_pd = pd.read_csv(train_path)\n",
        "validation_pd = pd.read_csv(validation_path)\n",
        "test_pd = pd.read_csv(test_path)"
      ],
      "metadata": {
        "execution": {
          "iopub.status.busy": "2024-01-04T03:34:03.851196Z",
          "iopub.execute_input": "2024-01-04T03:34:03.852404Z",
          "iopub.status.idle": "2024-01-04T03:34:03.897155Z",
          "shell.execute_reply.started": "2024-01-04T03:34:03.852343Z",
          "shell.execute_reply": "2024-01-04T03:34:03.895578Z"
        },
        "trusted": true,
        "id": "XrWEr5DajVs2"
      },
      "execution_count": null,
      "outputs": []
    },
    {
      "cell_type": "code",
      "source": [
        "all_data_list = [train_pd,validation_pd,test_pd]"
      ],
      "metadata": {
        "execution": {
          "iopub.status.busy": "2024-01-04T03:34:03.899954Z",
          "iopub.execute_input": "2024-01-04T03:34:03.901016Z",
          "iopub.status.idle": "2024-01-04T03:34:03.910295Z",
          "shell.execute_reply.started": "2024-01-04T03:34:03.900955Z",
          "shell.execute_reply": "2024-01-04T03:34:03.908764Z"
        },
        "trusted": true,
        "id": "3agfsTZljVs3"
      },
      "execution_count": null,
      "outputs": []
    },
    {
      "cell_type": "markdown",
      "source": [
        "#### CONTROL"
      ],
      "metadata": {
        "id": "iKIhNGV1jVs3"
      }
    },
    {
      "cell_type": "code",
      "source": [
        "for x_data,x_name in zip(all_data_list,[\"TRAIN\",\"VALIDATION\",\"TEST\"]):\n",
        "    print(f\"DATA NAME: {x_name}\\n\\nDATA:\\n{x_data.head()}\\n\\n\\n\")"
      ],
      "metadata": {
        "execution": {
          "iopub.status.busy": "2024-01-04T03:34:03.912643Z",
          "iopub.execute_input": "2024-01-04T03:34:03.913672Z",
          "iopub.status.idle": "2024-01-04T03:34:03.931540Z",
          "shell.execute_reply.started": "2024-01-04T03:34:03.913616Z",
          "shell.execute_reply": "2024-01-04T03:34:03.929894Z"
        },
        "trusted": true,
        "id": "KeY73c8HjVs3",
        "outputId": "869bade2-a565-4e4f-8d5d-b0d5e86618ee"
      },
      "execution_count": null,
      "outputs": [
        {
          "name": "stdout",
          "text": "DATA NAME: TRAIN\n\nDATA:\n                                                text label\n0  Just got back from seeing @GaryDelaney in Burs...   joy\n1  Oh dear an evening of absolute hilarity I don'...   joy\n2  Been waiting all week for this game ❤️❤️❤️ #ch...   joy\n3  @gardiner_love : Thank you so much, Gloria! Yo...   joy\n4  I feel so blessed to work with the family that...   joy\n\n\n\nDATA NAME: VALIDATION\n\nDATA:\n                                                text label\n0  @theclobra lol I thought maybe, couldn't decid...   joy\n1  Nawaz Sharif is getting more funnier than @kap...   joy\n2  Nawaz Sharif is getting more funnier than @kap...   joy\n3  @tomderivan73 😁...I'll just people watch and e...   joy\n4  I love my family so much #lucky #grateful #sma...   joy\n\n\n\nDATA NAME: TEST\n\nDATA:\n                                                text label\n0  You must be knowing #blithe means (adj.)  Happ...   joy\n1  Old saying 'A #smile shared is one gained for ...   joy\n2  Bridget Jones' Baby was bloody hilarious 😅 #Br...   joy\n3  @Elaminova sparkling water makes your life spa...   joy\n4  I'm tired of everybody telling me to chill out...   joy\n\n\n\n",
          "output_type": "stream"
        }
      ]
    },
    {
      "cell_type": "code",
      "source": [
        "for x_data,x_name in zip(all_data_list,[\"TRAIN\",\"VALIDATION\",\"TEST\"]):\n",
        "    print(f\"NULL CONTROL FOR {x_name}:\\n{x_data.isnull().sum()}\\n\\n\")"
      ],
      "metadata": {
        "execution": {
          "iopub.status.busy": "2024-01-04T03:34:03.934440Z",
          "iopub.execute_input": "2024-01-04T03:34:03.935431Z",
          "iopub.status.idle": "2024-01-04T03:34:03.951983Z",
          "shell.execute_reply.started": "2024-01-04T03:34:03.935363Z",
          "shell.execute_reply": "2024-01-04T03:34:03.950570Z"
        },
        "trusted": true,
        "id": "9ISsRQPzjVs4",
        "outputId": "f1ec9f26-3e02-4d6c-a08c-65c97ee15f49"
      },
      "execution_count": null,
      "outputs": [
        {
          "name": "stdout",
          "text": "NULL CONTROL FOR TRAIN:\ntext     0\nlabel    0\ndtype: int64\n\n\nNULL CONTROL FOR VALIDATION:\ntext     0\nlabel    0\ndtype: int64\n\n\nNULL CONTROL FOR TEST:\ntext     0\nlabel    0\ndtype: int64\n\n\n",
          "output_type": "stream"
        }
      ]
    },
    {
      "cell_type": "code",
      "source": [
        "for x_data,x_name in zip(all_data_list,[\"TRAIN\",\"VALIDATION\",\"TEST\"]):\n",
        "    print(f\"COLUMNS FOR {x_name}:\\n{x_data.columns}\\n\\n\")"
      ],
      "metadata": {
        "execution": {
          "iopub.status.busy": "2024-01-04T03:34:03.954344Z",
          "iopub.execute_input": "2024-01-04T03:34:03.955773Z",
          "iopub.status.idle": "2024-01-04T03:34:03.966256Z",
          "shell.execute_reply.started": "2024-01-04T03:34:03.955710Z",
          "shell.execute_reply": "2024-01-04T03:34:03.964139Z"
        },
        "trusted": true,
        "id": "2RTjT1TEjVs4",
        "outputId": "d7bd032b-c251-4e2f-964a-c4a91709b38e"
      },
      "execution_count": null,
      "outputs": [
        {
          "name": "stdout",
          "text": "COLUMNS FOR TRAIN:\nIndex(['text', 'label'], dtype='object')\n\n\nCOLUMNS FOR VALIDATION:\nIndex(['text', 'label'], dtype='object')\n\n\nCOLUMNS FOR TEST:\nIndex(['text', 'label'], dtype='object')\n\n\n",
          "output_type": "stream"
        }
      ]
    },
    {
      "cell_type": "code",
      "source": [
        "for x_data,x_name in zip(all_data_list,[\"TRAIN\",\"VALIDATION\",\"TEST\"]):\n",
        "    print(f\"VALUE COUNTS FOR {x_name}:\\n{x_data['label'].value_counts()}\\n\\n\")"
      ],
      "metadata": {
        "execution": {
          "iopub.status.busy": "2024-01-04T03:34:03.968488Z",
          "iopub.execute_input": "2024-01-04T03:34:03.969915Z",
          "iopub.status.idle": "2024-01-04T03:34:03.990783Z",
          "shell.execute_reply.started": "2024-01-04T03:34:03.969843Z",
          "shell.execute_reply": "2024-01-04T03:34:03.989141Z"
        },
        "trusted": true,
        "id": "PrBCFtQXjVs5",
        "outputId": "db2a431f-e7fb-4540-b79a-7f50005acec6"
      },
      "execution_count": null,
      "outputs": [
        {
          "name": "stdout",
          "text": "VALUE COUNTS FOR TRAIN:\nfear       1147\nanger       857\njoy         823\nsadness     786\nName: label, dtype: int64\n\n\nVALUE COUNTS FOR VALIDATION:\nfear       110\nanger       84\njoy         79\nsadness     74\nName: label, dtype: int64\n\n\nVALUE COUNTS FOR TEST:\nfear       995\nanger      760\njoy        714\nsadness    673\nName: label, dtype: int64\n\n\n",
          "output_type": "stream"
        }
      ]
    },
    {
      "cell_type": "markdown",
      "source": [
        "# MAPPING"
      ],
      "metadata": {
        "id": "oiyXsbXbjVs5"
      }
    },
    {
      "cell_type": "code",
      "source": [
        "emotions_categories = {'joy': ['joy',\n",
        "                               'happy',\n",
        "                               'laugh',\n",
        "                               'excited',\n",
        "                               'surprise'],\n",
        "                       'sadness': ['sad',\n",
        "                                   'disappointed',\n",
        "                                   'regret',\n",
        "                                   'depressed',\n",
        "                                   'lonely'],\n",
        "                       'anger': ['angry',\n",
        "                                 'frustrated',\n",
        "                                 'annoyed',\n",
        "                                 'irritated',\n",
        "                                 'mad'],\n",
        "                       'fear': ['afraid',\n",
        "                                'scared',\n",
        "                                'fear',\n",
        "                                'terrified',\n",
        "                                'nervous']}"
      ],
      "metadata": {
        "execution": {
          "iopub.status.busy": "2024-01-04T03:34:03.997928Z",
          "iopub.execute_input": "2024-01-04T03:34:03.999360Z",
          "iopub.status.idle": "2024-01-04T03:34:04.010406Z",
          "shell.execute_reply.started": "2024-01-04T03:34:03.999312Z",
          "shell.execute_reply": "2024-01-04T03:34:04.009049Z"
        },
        "trusted": true,
        "id": "8kex69oLjVs5"
      },
      "execution_count": null,
      "outputs": []
    },
    {
      "cell_type": "code",
      "source": [
        "def DELETE_EMOJIS(datasetinit):\n",
        "    lendata = len(datasetinit)\n",
        "    e_pattern = re.compile(\"[\"\n",
        "        u\"\\U0001F600-\\U0001F64F\"  # emoticons\n",
        "        u\"\\U0001F300-\\U0001F5FF\"  # symbols & pictographs\n",
        "        u\"\\U0001F680-\\U0001F6FF\"  # transport & map symbols\n",
        "        u\"\\U0001F1E0-\\U0001F1FF\"  # flags (iOS)\n",
        "        u\"\\U00002702-\\U000027B0\"  # dingbats\n",
        "        u\"\\U0001F900-\\U0001F9FF\"  # Supplemental Symbols and Pictographs\n",
        "        u\"\\U0001F910-\\U0001F93F\"  # Emoji Faces\n",
        "        u\"\\U0001F940-\\U0001F97F\"  # Emoji Faces with Accessories\n",
        "        u\"\\U0001F980-\\U0001F9E0\"  # Other emojis\n",
        "                           \"]+\",flags=re.UNICODE)\n",
        "    for co_ in range(lendata):\n",
        "        tt = datasetinit[\"text\"][co_]\n",
        "        tt = e_pattern.sub(r\"\",tt)\n",
        "        datasetinit[\"text\"][co_] == tt"
      ],
      "metadata": {
        "execution": {
          "iopub.status.busy": "2024-01-04T03:34:04.014770Z",
          "iopub.execute_input": "2024-01-04T03:34:04.015903Z",
          "iopub.status.idle": "2024-01-04T03:34:04.028202Z",
          "shell.execute_reply.started": "2024-01-04T03:34:04.015837Z",
          "shell.execute_reply": "2024-01-04T03:34:04.026515Z"
        },
        "trusted": true,
        "id": "NmhYN8v9jVs6"
      },
      "execution_count": null,
      "outputs": []
    },
    {
      "cell_type": "code",
      "source": [
        "def MULTI_EMOTION_MAPPING(datasetinit):\n",
        "    lendata = len(datasetinit)\n",
        "    for co_ in range(lendata):\n",
        "        val = datasetinit[\"label\"][co_]\n",
        "        if val == \"joy\":\n",
        "            datasetinit[\"label\"][co_] = \",\".join(str(xc) for xc in emotions_categories[\"joy\"])\n",
        "        elif val == \"sadness\":\n",
        "            datasetinit[\"label\"][co_] = \",\".join(str(xc) for xc in emotions_categories[\"sadness\"])\n",
        "        elif val == \"anger\":\n",
        "            datasetinit[\"label\"][co_] = \",\".join(str(xc) for xc in emotions_categories[\"anger\"])\n",
        "        elif val == \"fear\":\n",
        "            datasetinit[\"label\"][co_] = \",\".join(str(xc) for xc in emotions_categories[\"fear\"])\n",
        "        else:\n",
        "            pass"
      ],
      "metadata": {
        "execution": {
          "iopub.status.busy": "2024-01-04T03:34:04.030651Z",
          "iopub.execute_input": "2024-01-04T03:34:04.031557Z",
          "iopub.status.idle": "2024-01-04T03:34:04.044445Z",
          "shell.execute_reply.started": "2024-01-04T03:34:04.031501Z",
          "shell.execute_reply": "2024-01-04T03:34:04.043254Z"
        },
        "trusted": true,
        "id": "Do-v0ZNdjVs6"
      },
      "execution_count": null,
      "outputs": []
    },
    {
      "cell_type": "code",
      "source": [
        "for x_data,x_name in zip(all_data_list,[\"TRAIN\",\"VALIDATION\",\"TEST\"]):\n",
        "    print(f\"PROCESS OF {x_name}\\n\")\n",
        "    MULTI_EMOTION_MAPPING(x_data)\n",
        "    x_data.reset_index(drop=True,inplace=True)\n",
        "    print(f\"[+++] DONE FOR {x_name}\\n\\n\")"
      ],
      "metadata": {
        "execution": {
          "iopub.status.busy": "2024-01-04T03:34:04.046450Z",
          "iopub.execute_input": "2024-01-04T03:34:04.047321Z",
          "iopub.status.idle": "2024-01-04T03:34:04.739491Z",
          "shell.execute_reply.started": "2024-01-04T03:34:04.047270Z",
          "shell.execute_reply": "2024-01-04T03:34:04.738111Z"
        },
        "trusted": true,
        "id": "YrCOYCJ4jVs6",
        "outputId": "50dce8e8-8f42-4439-e2c9-31bfc7a1898a"
      },
      "execution_count": null,
      "outputs": [
        {
          "name": "stdout",
          "text": "PROCESS OF TRAIN\n\n[+++] DONE FOR TRAIN\n\n\nPROCESS OF VALIDATION\n\n[+++] DONE FOR VALIDATION\n\n\nPROCESS OF TEST\n\n[+++] DONE FOR TEST\n\n\n",
          "output_type": "stream"
        }
      ]
    },
    {
      "cell_type": "code",
      "source": [
        "for x_data,x_name in zip(all_data_list,[\"TRAIN\",\"VALIDATION\",\"TEST\"]):\n",
        "    print(f\"CONTROL FOR - {x_name}\\n\\n{x_data.head()}\\n\\n\\n\")"
      ],
      "metadata": {
        "execution": {
          "iopub.status.busy": "2024-01-04T03:34:04.741178Z",
          "iopub.execute_input": "2024-01-04T03:34:04.741546Z",
          "iopub.status.idle": "2024-01-04T03:34:04.755396Z",
          "shell.execute_reply.started": "2024-01-04T03:34:04.741511Z",
          "shell.execute_reply": "2024-01-04T03:34:04.753927Z"
        },
        "trusted": true,
        "id": "outwPD5RjVs7",
        "outputId": "9d6fbfcb-271f-4b85-da06-2dc6f3447dad"
      },
      "execution_count": null,
      "outputs": [
        {
          "name": "stdout",
          "text": "CONTROL FOR - TRAIN\n\n                                                text  \\\n0  Just got back from seeing @GaryDelaney in Burs...   \n1  Oh dear an evening of absolute hilarity I don'...   \n2  Been waiting all week for this game ❤️❤️❤️ #ch...   \n3  @gardiner_love : Thank you so much, Gloria! Yo...   \n4  I feel so blessed to work with the family that...   \n\n                              label  \n0  joy,happy,laugh,excited,surprise  \n1  joy,happy,laugh,excited,surprise  \n2  joy,happy,laugh,excited,surprise  \n3  joy,happy,laugh,excited,surprise  \n4  joy,happy,laugh,excited,surprise  \n\n\n\nCONTROL FOR - VALIDATION\n\n                                                text  \\\n0  @theclobra lol I thought maybe, couldn't decid...   \n1  Nawaz Sharif is getting more funnier than @kap...   \n2  Nawaz Sharif is getting more funnier than @kap...   \n3  @tomderivan73 😁...I'll just people watch and e...   \n4  I love my family so much #lucky #grateful #sma...   \n\n                              label  \n0  joy,happy,laugh,excited,surprise  \n1  joy,happy,laugh,excited,surprise  \n2  joy,happy,laugh,excited,surprise  \n3  joy,happy,laugh,excited,surprise  \n4  joy,happy,laugh,excited,surprise  \n\n\n\nCONTROL FOR - TEST\n\n                                                text  \\\n0  You must be knowing #blithe means (adj.)  Happ...   \n1  Old saying 'A #smile shared is one gained for ...   \n2  Bridget Jones' Baby was bloody hilarious 😅 #Br...   \n3  @Elaminova sparkling water makes your life spa...   \n4  I'm tired of everybody telling me to chill out...   \n\n                              label  \n0  joy,happy,laugh,excited,surprise  \n1  joy,happy,laugh,excited,surprise  \n2  joy,happy,laugh,excited,surprise  \n3  joy,happy,laugh,excited,surprise  \n4  joy,happy,laugh,excited,surprise  \n\n\n\n",
          "output_type": "stream"
        }
      ]
    },
    {
      "cell_type": "code",
      "source": [
        "for x_data,x_name in zip(all_data_list,[\"TRAIN\",\"VALIDATION\",\"TEST\"]):\n",
        "    print(f\"CONTROL FOR MAPPING - {x_name}\\n\\n{x_data['label'].value_counts()}\\n\\n\\n\")"
      ],
      "metadata": {
        "execution": {
          "iopub.status.busy": "2024-01-04T03:34:04.757224Z",
          "iopub.execute_input": "2024-01-04T03:34:04.757609Z",
          "iopub.status.idle": "2024-01-04T03:34:04.772426Z",
          "shell.execute_reply.started": "2024-01-04T03:34:04.757573Z",
          "shell.execute_reply": "2024-01-04T03:34:04.770595Z"
        },
        "trusted": true,
        "id": "qTUvh5y0jVs7",
        "outputId": "25037e5a-9d83-4dac-a55b-cbdd83048797"
      },
      "execution_count": null,
      "outputs": [
        {
          "name": "stdout",
          "text": "CONTROL FOR MAPPING - TRAIN\n\nafraid,scared,fear,terrified,nervous        1147\nangry,frustrated,annoyed,irritated,mad       857\njoy,happy,laugh,excited,surprise             823\nsad,disappointed,regret,depressed,lonely     786\nName: label, dtype: int64\n\n\n\nCONTROL FOR MAPPING - VALIDATION\n\nafraid,scared,fear,terrified,nervous        110\nangry,frustrated,annoyed,irritated,mad       84\njoy,happy,laugh,excited,surprise             79\nsad,disappointed,regret,depressed,lonely     74\nName: label, dtype: int64\n\n\n\nCONTROL FOR MAPPING - TEST\n\nafraid,scared,fear,terrified,nervous        995\nangry,frustrated,annoyed,irritated,mad      760\njoy,happy,laugh,excited,surprise            714\nsad,disappointed,regret,depressed,lonely    673\nName: label, dtype: int64\n\n\n\n",
          "output_type": "stream"
        }
      ]
    },
    {
      "cell_type": "code",
      "source": [
        "for x_data,x_name in zip(all_data_list,[\"TRAIN\",\"VALIDATION\",\"TEST\"]):\n",
        "    print(f\"NULL CONTROL FOR {x_name}:\\n{x_data.isnull().sum()}\\n\\n\")"
      ],
      "metadata": {
        "execution": {
          "iopub.status.busy": "2024-01-04T03:34:04.774174Z",
          "iopub.execute_input": "2024-01-04T03:34:04.774534Z",
          "iopub.status.idle": "2024-01-04T03:34:04.791520Z",
          "shell.execute_reply.started": "2024-01-04T03:34:04.774491Z",
          "shell.execute_reply": "2024-01-04T03:34:04.789591Z"
        },
        "trusted": true,
        "id": "l01Ux0hhjVs7",
        "outputId": "672542ae-8adb-43fa-9f4e-aac6ca056e46"
      },
      "execution_count": null,
      "outputs": [
        {
          "name": "stdout",
          "text": "NULL CONTROL FOR TRAIN:\ntext     0\nlabel    0\ndtype: int64\n\n\nNULL CONTROL FOR VALIDATION:\ntext     0\nlabel    0\ndtype: int64\n\n\nNULL CONTROL FOR TEST:\ntext     0\nlabel    0\ndtype: int64\n\n\n",
          "output_type": "stream"
        }
      ]
    },
    {
      "cell_type": "code",
      "source": [
        "for x_data,x_name in zip(all_data_list,[\"TRAIN\",\"VALIDATION\",\"TEST\"]):\n",
        "    print(f\"PROCESS OF {x_name}\\n\")\n",
        "    DELETE_EMOJIS(x_data)\n",
        "    x_data.reset_index(drop=True,inplace=True)\n",
        "    print(f\"[+++] DONE FOR {x_name}\\n\\n\")"
      ],
      "metadata": {
        "execution": {
          "iopub.status.busy": "2024-01-04T03:34:04.793595Z",
          "iopub.execute_input": "2024-01-04T03:34:04.794004Z",
          "iopub.status.idle": "2024-01-04T03:34:05.002792Z",
          "shell.execute_reply.started": "2024-01-04T03:34:04.793966Z",
          "shell.execute_reply": "2024-01-04T03:34:05.001223Z"
        },
        "trusted": true,
        "id": "QeSJ1pbrjVs8",
        "outputId": "1d622b5c-d23e-4001-cf8e-40475922b440"
      },
      "execution_count": null,
      "outputs": [
        {
          "name": "stdout",
          "text": "PROCESS OF TRAIN\n\n[+++] DONE FOR TRAIN\n\n\nPROCESS OF VALIDATION\n\n[+++] DONE FOR VALIDATION\n\n\nPROCESS OF TEST\n\n[+++] DONE FOR TEST\n\n\n",
          "output_type": "stream"
        }
      ]
    },
    {
      "cell_type": "code",
      "source": [
        "train_pd.head()"
      ],
      "metadata": {
        "execution": {
          "iopub.status.busy": "2024-01-04T03:34:05.006587Z",
          "iopub.execute_input": "2024-01-04T03:34:05.007801Z",
          "iopub.status.idle": "2024-01-04T03:34:05.032238Z",
          "shell.execute_reply.started": "2024-01-04T03:34:05.007739Z",
          "shell.execute_reply": "2024-01-04T03:34:05.030737Z"
        },
        "trusted": true,
        "id": "FK5JajqBjVs8",
        "outputId": "569931fe-5306-48da-e60c-1d33d8d1c587"
      },
      "execution_count": null,
      "outputs": [
        {
          "execution_count": 28,
          "output_type": "execute_result",
          "data": {
            "text/plain": "                                                text  \\\n0  Just got back from seeing @GaryDelaney in Burs...   \n1  Oh dear an evening of absolute hilarity I don'...   \n2  Been waiting all week for this game ❤️❤️❤️ #ch...   \n3  @gardiner_love : Thank you so much, Gloria! Yo...   \n4  I feel so blessed to work with the family that...   \n\n                              label  \n0  joy,happy,laugh,excited,surprise  \n1  joy,happy,laugh,excited,surprise  \n2  joy,happy,laugh,excited,surprise  \n3  joy,happy,laugh,excited,surprise  \n4  joy,happy,laugh,excited,surprise  ",
            "text/html": "<div>\n<style scoped>\n    .dataframe tbody tr th:only-of-type {\n        vertical-align: middle;\n    }\n\n    .dataframe tbody tr th {\n        vertical-align: top;\n    }\n\n    .dataframe thead th {\n        text-align: right;\n    }\n</style>\n<table border=\"1\" class=\"dataframe\">\n  <thead>\n    <tr style=\"text-align: right;\">\n      <th></th>\n      <th>text</th>\n      <th>label</th>\n    </tr>\n  </thead>\n  <tbody>\n    <tr>\n      <th>0</th>\n      <td>Just got back from seeing @GaryDelaney in Burs...</td>\n      <td>joy,happy,laugh,excited,surprise</td>\n    </tr>\n    <tr>\n      <th>1</th>\n      <td>Oh dear an evening of absolute hilarity I don'...</td>\n      <td>joy,happy,laugh,excited,surprise</td>\n    </tr>\n    <tr>\n      <th>2</th>\n      <td>Been waiting all week for this game ❤️❤️❤️ #ch...</td>\n      <td>joy,happy,laugh,excited,surprise</td>\n    </tr>\n    <tr>\n      <th>3</th>\n      <td>@gardiner_love : Thank you so much, Gloria! Yo...</td>\n      <td>joy,happy,laugh,excited,surprise</td>\n    </tr>\n    <tr>\n      <th>4</th>\n      <td>I feel so blessed to work with the family that...</td>\n      <td>joy,happy,laugh,excited,surprise</td>\n    </tr>\n  </tbody>\n</table>\n</div>"
          },
          "metadata": {}
        }
      ]
    },
    {
      "cell_type": "code",
      "source": [
        "train_pd.tail()"
      ],
      "metadata": {
        "execution": {
          "iopub.status.busy": "2024-01-04T03:34:05.035144Z",
          "iopub.execute_input": "2024-01-04T03:34:05.036328Z",
          "iopub.status.idle": "2024-01-04T03:34:05.053554Z",
          "shell.execute_reply.started": "2024-01-04T03:34:05.036267Z",
          "shell.execute_reply": "2024-01-04T03:34:05.052139Z"
        },
        "trusted": true,
        "id": "6EO3hD10jVs8",
        "outputId": "d459dc18-04c8-4d7e-c87a-db2d2ad44ff1"
      },
      "execution_count": null,
      "outputs": [
        {
          "execution_count": 29,
          "output_type": "execute_result",
          "data": {
            "text/plain": "                                                   text  \\\n3608  @VivienLloyd Thank you so much! Just home - st...   \n3609              Just put the winter duvet on ☃️❄️🌬☔️    \n3610  @SilkInSide @TommyJoeRatliff that's so pretty!...   \n3611  @BluesfestByron second artist announcement loo...   \n3612  I can literally eat creamy pesto pasta topped ...   \n\n                                         label  \n3608  sad,disappointed,regret,depressed,lonely  \n3609  sad,disappointed,regret,depressed,lonely  \n3610  sad,disappointed,regret,depressed,lonely  \n3611  sad,disappointed,regret,depressed,lonely  \n3612  sad,disappointed,regret,depressed,lonely  ",
            "text/html": "<div>\n<style scoped>\n    .dataframe tbody tr th:only-of-type {\n        vertical-align: middle;\n    }\n\n    .dataframe tbody tr th {\n        vertical-align: top;\n    }\n\n    .dataframe thead th {\n        text-align: right;\n    }\n</style>\n<table border=\"1\" class=\"dataframe\">\n  <thead>\n    <tr style=\"text-align: right;\">\n      <th></th>\n      <th>text</th>\n      <th>label</th>\n    </tr>\n  </thead>\n  <tbody>\n    <tr>\n      <th>3608</th>\n      <td>@VivienLloyd Thank you so much! Just home - st...</td>\n      <td>sad,disappointed,regret,depressed,lonely</td>\n    </tr>\n    <tr>\n      <th>3609</th>\n      <td>Just put the winter duvet on ☃️❄️🌬☔️</td>\n      <td>sad,disappointed,regret,depressed,lonely</td>\n    </tr>\n    <tr>\n      <th>3610</th>\n      <td>@SilkInSide @TommyJoeRatliff that's so pretty!...</td>\n      <td>sad,disappointed,regret,depressed,lonely</td>\n    </tr>\n    <tr>\n      <th>3611</th>\n      <td>@BluesfestByron second artist announcement loo...</td>\n      <td>sad,disappointed,regret,depressed,lonely</td>\n    </tr>\n    <tr>\n      <th>3612</th>\n      <td>I can literally eat creamy pesto pasta topped ...</td>\n      <td>sad,disappointed,regret,depressed,lonely</td>\n    </tr>\n  </tbody>\n</table>\n</div>"
          },
          "metadata": {}
        }
      ]
    },
    {
      "cell_type": "code",
      "source": [
        "all_train_data = pd.concat([train_pd,validation_pd,test_pd],ignore_index=True)"
      ],
      "metadata": {
        "execution": {
          "iopub.status.busy": "2024-01-04T03:34:05.056148Z",
          "iopub.execute_input": "2024-01-04T03:34:05.056561Z",
          "iopub.status.idle": "2024-01-04T03:34:05.065162Z",
          "shell.execute_reply.started": "2024-01-04T03:34:05.056523Z",
          "shell.execute_reply": "2024-01-04T03:34:05.063257Z"
        },
        "trusted": true,
        "id": "I1_xe1FjjVs8"
      },
      "execution_count": null,
      "outputs": []
    },
    {
      "cell_type": "code",
      "source": [
        "all_train_data"
      ],
      "metadata": {
        "execution": {
          "iopub.status.busy": "2024-01-04T03:34:05.067615Z",
          "iopub.execute_input": "2024-01-04T03:34:05.069246Z",
          "iopub.status.idle": "2024-01-04T03:34:05.092078Z",
          "shell.execute_reply.started": "2024-01-04T03:34:05.069169Z",
          "shell.execute_reply": "2024-01-04T03:34:05.090517Z"
        },
        "trusted": true,
        "id": "rK-E7oHUjVs9",
        "outputId": "758d6c1f-ed2f-4ffa-eadf-9152ec5e9ee0"
      },
      "execution_count": null,
      "outputs": [
        {
          "execution_count": 31,
          "output_type": "execute_result",
          "data": {
            "text/plain": "                                                   text  \\\n0     Just got back from seeing @GaryDelaney in Burs...   \n1     Oh dear an evening of absolute hilarity I don'...   \n2     Been waiting all week for this game ❤️❤️❤️ #ch...   \n3     @gardiner_love : Thank you so much, Gloria! Yo...   \n4     I feel so blessed to work with the family that...   \n...                                                 ...   \n7097          Why does Candice constantly pout #GBBO 💄😒   \n7098  @redBus_in #unhappy with #redbus CC, when I ta...   \n7099  @AceOperative789 no pull him afew weeks ago, s...   \n7100  I'm buying art supplies and I'm debating how s...   \n7101  @sainsburys Could you ask your Chafford Hundre...   \n\n                                         label  \n0             joy,happy,laugh,excited,surprise  \n1             joy,happy,laugh,excited,surprise  \n2             joy,happy,laugh,excited,surprise  \n3             joy,happy,laugh,excited,surprise  \n4             joy,happy,laugh,excited,surprise  \n...                                        ...  \n7097  sad,disappointed,regret,depressed,lonely  \n7098  sad,disappointed,regret,depressed,lonely  \n7099  sad,disappointed,regret,depressed,lonely  \n7100  sad,disappointed,regret,depressed,lonely  \n7101  sad,disappointed,regret,depressed,lonely  \n\n[7102 rows x 2 columns]",
            "text/html": "<div>\n<style scoped>\n    .dataframe tbody tr th:only-of-type {\n        vertical-align: middle;\n    }\n\n    .dataframe tbody tr th {\n        vertical-align: top;\n    }\n\n    .dataframe thead th {\n        text-align: right;\n    }\n</style>\n<table border=\"1\" class=\"dataframe\">\n  <thead>\n    <tr style=\"text-align: right;\">\n      <th></th>\n      <th>text</th>\n      <th>label</th>\n    </tr>\n  </thead>\n  <tbody>\n    <tr>\n      <th>0</th>\n      <td>Just got back from seeing @GaryDelaney in Burs...</td>\n      <td>joy,happy,laugh,excited,surprise</td>\n    </tr>\n    <tr>\n      <th>1</th>\n      <td>Oh dear an evening of absolute hilarity I don'...</td>\n      <td>joy,happy,laugh,excited,surprise</td>\n    </tr>\n    <tr>\n      <th>2</th>\n      <td>Been waiting all week for this game ❤️❤️❤️ #ch...</td>\n      <td>joy,happy,laugh,excited,surprise</td>\n    </tr>\n    <tr>\n      <th>3</th>\n      <td>@gardiner_love : Thank you so much, Gloria! Yo...</td>\n      <td>joy,happy,laugh,excited,surprise</td>\n    </tr>\n    <tr>\n      <th>4</th>\n      <td>I feel so blessed to work with the family that...</td>\n      <td>joy,happy,laugh,excited,surprise</td>\n    </tr>\n    <tr>\n      <th>...</th>\n      <td>...</td>\n      <td>...</td>\n    </tr>\n    <tr>\n      <th>7097</th>\n      <td>Why does Candice constantly pout #GBBO 💄😒</td>\n      <td>sad,disappointed,regret,depressed,lonely</td>\n    </tr>\n    <tr>\n      <th>7098</th>\n      <td>@redBus_in #unhappy with #redbus CC, when I ta...</td>\n      <td>sad,disappointed,regret,depressed,lonely</td>\n    </tr>\n    <tr>\n      <th>7099</th>\n      <td>@AceOperative789 no pull him afew weeks ago, s...</td>\n      <td>sad,disappointed,regret,depressed,lonely</td>\n    </tr>\n    <tr>\n      <th>7100</th>\n      <td>I'm buying art supplies and I'm debating how s...</td>\n      <td>sad,disappointed,regret,depressed,lonely</td>\n    </tr>\n    <tr>\n      <th>7101</th>\n      <td>@sainsburys Could you ask your Chafford Hundre...</td>\n      <td>sad,disappointed,regret,depressed,lonely</td>\n    </tr>\n  </tbody>\n</table>\n<p>7102 rows × 2 columns</p>\n</div>"
          },
          "metadata": {}
        }
      ]
    },
    {
      "cell_type": "markdown",
      "source": [
        "# VECTORIZER"
      ],
      "metadata": {
        "id": "3BnH32g_jVs9"
      }
    },
    {
      "cell_type": "code",
      "source": [
        "vectorizer_train = CountVectorizer(stop_words=stop_words_english)"
      ],
      "metadata": {
        "execution": {
          "iopub.status.busy": "2024-01-04T03:34:05.094502Z",
          "iopub.execute_input": "2024-01-04T03:34:05.095040Z",
          "iopub.status.idle": "2024-01-04T03:34:05.102084Z",
          "shell.execute_reply.started": "2024-01-04T03:34:05.094980Z",
          "shell.execute_reply": "2024-01-04T03:34:05.099899Z"
        },
        "trusted": true,
        "id": "TKnW2WEkjVs9"
      },
      "execution_count": null,
      "outputs": []
    },
    {
      "cell_type": "code",
      "source": [
        "xall = vectorizer_train.fit_transform(all_train_data[\"text\"])\n",
        "yall = all_train_data[\"label\"]"
      ],
      "metadata": {
        "execution": {
          "iopub.status.busy": "2024-01-04T03:34:05.104732Z",
          "iopub.execute_input": "2024-01-04T03:34:05.105363Z",
          "iopub.status.idle": "2024-01-04T03:34:05.336449Z",
          "shell.execute_reply.started": "2024-01-04T03:34:05.105306Z",
          "shell.execute_reply": "2024-01-04T03:34:05.335011Z"
        },
        "trusted": true,
        "id": "DiPteJ6ejVs9"
      },
      "execution_count": null,
      "outputs": []
    },
    {
      "cell_type": "code",
      "source": [
        "xtrain,xtest,ytrain,ytest = train_test_split(xall,\n",
        "                                             yall,\n",
        "                                             test_size=0.2,\n",
        "                                             random_state=42,\n",
        "                                             shuffle=True)"
      ],
      "metadata": {
        "execution": {
          "iopub.status.busy": "2024-01-04T03:34:05.338267Z",
          "iopub.execute_input": "2024-01-04T03:34:05.338755Z",
          "iopub.status.idle": "2024-01-04T03:34:05.350694Z",
          "shell.execute_reply.started": "2024-01-04T03:34:05.338703Z",
          "shell.execute_reply": "2024-01-04T03:34:05.349228Z"
        },
        "trusted": true,
        "id": "SVqpDTOQjVs-"
      },
      "execution_count": null,
      "outputs": []
    },
    {
      "cell_type": "code",
      "source": [
        "print(f\"X TRAIN SHAPE:\\n\\n{xtrain.shape}\")\n",
        "print(f\"Y TRAIN SHAPE:\\n\\n{ytrain.shape}\")\n",
        "print(f\"X TEST SHAPE:\\n\\n{xtest.shape}\")\n",
        "print(f\"Y TEST SHAPE:\\n\\n{ytest.shape}\")"
      ],
      "metadata": {
        "execution": {
          "iopub.status.busy": "2024-01-04T03:34:05.352678Z",
          "iopub.execute_input": "2024-01-04T03:34:05.354077Z",
          "iopub.status.idle": "2024-01-04T03:34:05.362150Z",
          "shell.execute_reply.started": "2024-01-04T03:34:05.354002Z",
          "shell.execute_reply": "2024-01-04T03:34:05.360408Z"
        },
        "trusted": true,
        "id": "UqQ7k7OIjVs-",
        "outputId": "50a13994-b378-4f2d-bf20-45d3e0391db6"
      },
      "execution_count": null,
      "outputs": [
        {
          "name": "stdout",
          "text": "X TRAIN SHAPE:\n\n(5681, 15735)\nY TRAIN SHAPE:\n\n(5681,)\nX TEST SHAPE:\n\n(1421, 15735)\nY TEST SHAPE:\n\n(1421,)\n",
          "output_type": "stream"
        }
      ]
    },
    {
      "cell_type": "markdown",
      "source": [
        "# Vocabulary"
      ],
      "metadata": {
        "id": "ewFCCPWgjVs-"
      }
    },
    {
      "cell_type": "code",
      "source": [
        "voc = vectorizer_train.get_feature_names_out()\n",
        "print(f\"TARGET VOCABULARY:\\n\\n{voc}\")"
      ],
      "metadata": {
        "execution": {
          "iopub.status.busy": "2024-01-04T03:34:05.364121Z",
          "iopub.execute_input": "2024-01-04T03:34:05.364862Z",
          "iopub.status.idle": "2024-01-04T03:34:05.389667Z",
          "shell.execute_reply.started": "2024-01-04T03:34:05.364820Z",
          "shell.execute_reply": "2024-01-04T03:34:05.388154Z"
        },
        "trusted": true,
        "id": "MA2Jl-iQjVs-",
        "outputId": "69c95622-feb2-4341-e8ef-928da888ee4c"
      },
      "execution_count": null,
      "outputs": [
        {
          "name": "stdout",
          "text": "TARGET VOCABULARY:\n\n['00' '000' '00pm' ... 'सत' 'アニメ' '화양연화']\n",
          "output_type": "stream"
        }
      ]
    },
    {
      "cell_type": "markdown",
      "source": [
        "# Model"
      ],
      "metadata": {
        "id": "e_4kUa68jVs_"
      }
    },
    {
      "cell_type": "code",
      "source": [
        "clf = MultinomialNB()"
      ],
      "metadata": {
        "execution": {
          "iopub.status.busy": "2024-01-04T03:34:05.391437Z",
          "iopub.execute_input": "2024-01-04T03:34:05.391833Z",
          "iopub.status.idle": "2024-01-04T03:34:05.398937Z",
          "shell.execute_reply.started": "2024-01-04T03:34:05.391793Z",
          "shell.execute_reply": "2024-01-04T03:34:05.397611Z"
        },
        "trusted": true,
        "id": "idiWY-bQjVs_"
      },
      "execution_count": null,
      "outputs": []
    },
    {
      "cell_type": "code",
      "source": [
        "clf.fit(xtrain,ytrain)"
      ],
      "metadata": {
        "execution": {
          "iopub.status.busy": "2024-01-04T03:34:05.407720Z",
          "iopub.execute_input": "2024-01-04T03:34:05.408125Z",
          "iopub.status.idle": "2024-01-04T03:34:05.465490Z",
          "shell.execute_reply.started": "2024-01-04T03:34:05.408088Z",
          "shell.execute_reply": "2024-01-04T03:34:05.463822Z"
        },
        "trusted": true,
        "id": "4ersuFvVjVs_",
        "outputId": "fd0a24f2-ef13-4add-8e4d-b6de00861383"
      },
      "execution_count": null,
      "outputs": [
        {
          "execution_count": 38,
          "output_type": "execute_result",
          "data": {
            "text/plain": "MultinomialNB()"
          },
          "metadata": {}
        }
      ]
    },
    {
      "cell_type": "code",
      "source": [
        "ypred = clf.predict(xtest)"
      ],
      "metadata": {
        "execution": {
          "iopub.status.busy": "2024-01-04T03:34:05.467888Z",
          "iopub.execute_input": "2024-01-04T03:34:05.468496Z",
          "iopub.status.idle": "2024-01-04T03:34:05.476254Z",
          "shell.execute_reply.started": "2024-01-04T03:34:05.468440Z",
          "shell.execute_reply": "2024-01-04T03:34:05.474729Z"
        },
        "trusted": true,
        "id": "0eXbI4TsjVtG"
      },
      "execution_count": null,
      "outputs": []
    },
    {
      "cell_type": "code",
      "source": [
        "print(f\"ACCURACY SCORE: {accuracy_score(ytest,ypred)}\")"
      ],
      "metadata": {
        "execution": {
          "iopub.status.busy": "2024-01-04T03:34:05.478235Z",
          "iopub.execute_input": "2024-01-04T03:34:05.478675Z",
          "iopub.status.idle": "2024-01-04T03:34:05.493774Z",
          "shell.execute_reply.started": "2024-01-04T03:34:05.478621Z",
          "shell.execute_reply": "2024-01-04T03:34:05.492452Z"
        },
        "trusted": true,
        "id": "8HSN33_tjVtG",
        "outputId": "ec23553f-b174-4b6f-9871-f4495f841af5"
      },
      "execution_count": null,
      "outputs": [
        {
          "name": "stdout",
          "text": "ACCURACY SCORE: 0.8395496129486277\n",
          "output_type": "stream"
        }
      ]
    },
    {
      "cell_type": "code",
      "source": [
        "print(f\"MODEL CLASSES:\\n\\n{clf.classes_}\")"
      ],
      "metadata": {
        "execution": {
          "iopub.status.busy": "2024-01-04T03:34:05.495406Z",
          "iopub.execute_input": "2024-01-04T03:34:05.495757Z",
          "iopub.status.idle": "2024-01-04T03:34:05.503694Z",
          "shell.execute_reply.started": "2024-01-04T03:34:05.495723Z",
          "shell.execute_reply": "2024-01-04T03:34:05.502373Z"
        },
        "trusted": true,
        "id": "jH0z9AEljVtH",
        "outputId": "6406f101-1ba8-4e7c-c268-0fb99623c508"
      },
      "execution_count": null,
      "outputs": [
        {
          "name": "stdout",
          "text": "MODEL CLASSES:\n\n['afraid,scared,fear,terrified,nervous'\n 'angry,frustrated,annoyed,irritated,mad'\n 'joy,happy,laugh,excited,surprise'\n 'sad,disappointed,regret,depressed,lonely']\n",
          "output_type": "stream"
        }
      ]
    },
    {
      "cell_type": "code",
      "source": [
        "conf_matrix = confusion_matrix(ytest,ypred)"
      ],
      "metadata": {
        "execution": {
          "iopub.status.busy": "2024-01-04T03:34:05.505486Z",
          "iopub.execute_input": "2024-01-04T03:34:05.505865Z",
          "iopub.status.idle": "2024-01-04T03:34:05.523408Z",
          "shell.execute_reply.started": "2024-01-04T03:34:05.505829Z",
          "shell.execute_reply": "2024-01-04T03:34:05.521754Z"
        },
        "trusted": true,
        "id": "_cipcv0FjVtH"
      },
      "execution_count": null,
      "outputs": []
    },
    {
      "cell_type": "code",
      "source": [
        "plt.style.use(\"dark_background\")\n",
        "plt.figure(figsize=(15,8))\n",
        "sns.heatmap(conf_matrix,\n",
        "           annot=True,\n",
        "           cmap=\"hot\",\n",
        "           xticklabels=emotions_categories.values(),\n",
        "           yticklabels=emotions_categories.values())\n",
        "plt.xlabel(\"PREDICTION\")\n",
        "plt.ylabel(\"ACTUAL\")\n",
        "plt.show()"
      ],
      "metadata": {
        "execution": {
          "iopub.status.busy": "2024-01-04T03:34:05.525777Z",
          "iopub.execute_input": "2024-01-04T03:34:05.526737Z",
          "iopub.status.idle": "2024-01-04T03:34:06.105931Z",
          "shell.execute_reply.started": "2024-01-04T03:34:05.526679Z",
          "shell.execute_reply": "2024-01-04T03:34:06.102217Z"
        },
        "trusted": true,
        "id": "sj7VCep6jVtH",
        "outputId": "9c73212d-2bae-4753-c959-b54570ef0998"
      },
      "execution_count": null,
      "outputs": [
        {
          "output_type": "display_data",
          "data": {
            "text/plain": "<Figure size 1500x800 with 2 Axes>",
            "image/png": "[encoded data removed]"
          },
          "metadata": {}
        }
      ]
    },
    {
      "cell_type": "markdown",
      "source": [
        "# Test Input"
      ],
      "metadata": {
        "id": "a5RUx06ZjVtI"
      }
    },
    {
      "cell_type": "code",
      "source": [
        "test_sentence = \"I don't know what's going on in this world, but all you know is that connection will bring freedom. Although we live in an unknown world, the existence of a woman who burns heaven is the cause of all beauty.\""
      ],
      "metadata": {
        "execution": {
          "iopub.status.busy": "2024-01-04T03:34:06.107782Z",
          "iopub.execute_input": "2024-01-04T03:34:06.108249Z",
          "iopub.status.idle": "2024-01-04T03:34:06.113916Z",
          "shell.execute_reply.started": "2024-01-04T03:34:06.108206Z",
          "shell.execute_reply": "2024-01-04T03:34:06.112610Z"
        },
        "trusted": true,
        "id": "hWVGK7-RjVtI"
      },
      "execution_count": null,
      "outputs": []
    },
    {
      "cell_type": "code",
      "source": [
        "words_of_sentence = nltk.word_tokenize(test_sentence)"
      ],
      "metadata": {
        "execution": {
          "iopub.status.busy": "2024-01-04T03:34:06.116086Z",
          "iopub.execute_input": "2024-01-04T03:34:06.116489Z",
          "iopub.status.idle": "2024-01-04T03:34:06.146535Z",
          "shell.execute_reply.started": "2024-01-04T03:34:06.116451Z",
          "shell.execute_reply": "2024-01-04T03:34:06.145090Z"
        },
        "trusted": true,
        "id": "kKN-nGadjVtI"
      },
      "execution_count": null,
      "outputs": []
    },
    {
      "cell_type": "code",
      "source": [
        "print(f\"WORDS:\\n\\n{words_of_sentence}\")"
      ],
      "metadata": {
        "execution": {
          "iopub.status.busy": "2024-01-04T03:34:06.148300Z",
          "iopub.execute_input": "2024-01-04T03:34:06.149221Z",
          "iopub.status.idle": "2024-01-04T03:34:06.155665Z",
          "shell.execute_reply.started": "2024-01-04T03:34:06.149176Z",
          "shell.execute_reply": "2024-01-04T03:34:06.154733Z"
        },
        "trusted": true,
        "id": "d4jLFJMGjVtI",
        "outputId": "7944dbe8-1f8c-40e4-8efe-3338538e588f"
      },
      "execution_count": null,
      "outputs": [
        {
          "name": "stdout",
          "text": "WORDS:\n\n['I', 'do', \"n't\", 'know', 'what', \"'s\", 'going', 'on', 'in', 'this', 'world', ',', 'but', 'all', 'you', 'know', 'is', 'that', 'connection', 'will', 'bring', 'freedom', '.', 'Although', 'we', 'live', 'in', 'an', 'unknown', 'world', ',', 'the', 'existence', 'of', 'a', 'woman', 'who', 'burns', 'heaven', 'is', 'the', 'cause', 'of', 'all', 'beauty', '.']\n",
          "output_type": "stream"
        }
      ]
    },
    {
      "cell_type": "code",
      "source": [
        "words_of_sentence = [w_ for w_ in words_of_sentence if w_ not in stop_words_english]"
      ],
      "metadata": {
        "execution": {
          "iopub.status.busy": "2024-01-04T03:34:06.156820Z",
          "iopub.execute_input": "2024-01-04T03:34:06.157225Z",
          "iopub.status.idle": "2024-01-04T03:34:06.167430Z",
          "shell.execute_reply.started": "2024-01-04T03:34:06.157187Z",
          "shell.execute_reply": "2024-01-04T03:34:06.165899Z"
        },
        "trusted": true,
        "id": "FauszSSIjVtJ"
      },
      "execution_count": null,
      "outputs": []
    },
    {
      "cell_type": "code",
      "source": [
        "print(f\"WORDS WITHOUT STOP WORDS:\\n\\n{words_of_sentence}\")"
      ],
      "metadata": {
        "execution": {
          "iopub.status.busy": "2024-01-04T03:34:06.168939Z",
          "iopub.execute_input": "2024-01-04T03:34:06.169349Z",
          "iopub.status.idle": "2024-01-04T03:34:06.180735Z",
          "shell.execute_reply.started": "2024-01-04T03:34:06.169311Z",
          "shell.execute_reply": "2024-01-04T03:34:06.179798Z"
        },
        "trusted": true,
        "id": "-g_0YQzsjVtJ",
        "outputId": "a4df9477-cea4-4d1e-8969-c03695a8f2d7"
      },
      "execution_count": null,
      "outputs": [
        {
          "name": "stdout",
          "text": "WORDS WITHOUT STOP WORDS:\n\n['I', \"n't\", 'know', \"'s\", 'going', 'world', ',', 'know', 'connection', 'bring', 'freedom', '.', 'Although', 'live', 'unknown', 'world', ',', 'existence', 'woman', 'burns', 'heaven', 'cause', 'beauty', '.']\n",
          "output_type": "stream"
        }
      ]
    },
    {
      "cell_type": "code",
      "source": [
        "transform_test = vectorizer_train.transform(words_of_sentence)"
      ],
      "metadata": {
        "execution": {
          "iopub.status.busy": "2024-01-04T03:34:06.182071Z",
          "iopub.execute_input": "2024-01-04T03:34:06.182458Z",
          "iopub.status.idle": "2024-01-04T03:34:06.194018Z",
          "shell.execute_reply.started": "2024-01-04T03:34:06.182420Z",
          "shell.execute_reply": "2024-01-04T03:34:06.192275Z"
        },
        "trusted": true,
        "id": "lZWxLdmQjVtJ"
      },
      "execution_count": null,
      "outputs": []
    },
    {
      "cell_type": "code",
      "source": [
        "pred_test = clf.predict(transform_test)"
      ],
      "metadata": {
        "execution": {
          "iopub.status.busy": "2024-01-04T03:34:06.195435Z",
          "iopub.execute_input": "2024-01-04T03:34:06.195819Z",
          "iopub.status.idle": "2024-01-04T03:34:06.207320Z",
          "shell.execute_reply.started": "2024-01-04T03:34:06.195782Z",
          "shell.execute_reply": "2024-01-04T03:34:06.205615Z"
        },
        "trusted": true,
        "id": "osFo4LvajVtJ"
      },
      "execution_count": null,
      "outputs": []
    },
    {
      "cell_type": "code",
      "source": [
        "print(f\"PREDICTION:\\n\\n{pred_test[0]}\")"
      ],
      "metadata": {
        "execution": {
          "iopub.status.busy": "2024-01-04T03:34:06.209999Z",
          "iopub.execute_input": "2024-01-04T03:34:06.210565Z",
          "iopub.status.idle": "2024-01-04T03:34:06.220847Z",
          "shell.execute_reply.started": "2024-01-04T03:34:06.210513Z",
          "shell.execute_reply": "2024-01-04T03:34:06.219112Z"
        },
        "trusted": true,
        "id": "z61tEMjpjVtJ",
        "outputId": "67bb37b9-3618-47bd-ae62-3f2215192bf5"
      },
      "execution_count": null,
      "outputs": [
        {
          "name": "stdout",
          "text": "PREDICTION:\n\nafraid,scared,fear,terrified,nervous\n",
          "output_type": "stream"
        }
      ]
    },
    {
      "cell_type": "markdown",
      "source": [
        "# Single Text Prediction"
      ],
      "metadata": {
        "id": "4rwTNNR5jVtK"
      }
    },
    {
      "cell_type": "code",
      "source": [
        "single_text = \"When I look at your eyes, I see stars\"\n",
        "transform_single = vectorizer_train.transform([single_text])"
      ],
      "metadata": {
        "execution": {
          "iopub.status.busy": "2024-01-04T03:34:06.222866Z",
          "iopub.execute_input": "2024-01-04T03:34:06.223389Z",
          "iopub.status.idle": "2024-01-04T03:34:06.233308Z",
          "shell.execute_reply.started": "2024-01-04T03:34:06.223328Z",
          "shell.execute_reply": "2024-01-04T03:34:06.231544Z"
        },
        "trusted": true,
        "id": "OPcKZZb6jVtK"
      },
      "execution_count": null,
      "outputs": []
    },
    {
      "cell_type": "code",
      "source": [
        "print(f\"SINGLE VECTORIZING OUTPUT:\\n\\n{transform_single.data}\")"
      ],
      "metadata": {
        "execution": {
          "iopub.status.busy": "2024-01-04T03:34:06.235686Z",
          "iopub.execute_input": "2024-01-04T03:34:06.236541Z",
          "iopub.status.idle": "2024-01-04T03:34:06.248050Z",
          "shell.execute_reply.started": "2024-01-04T03:34:06.236483Z",
          "shell.execute_reply": "2024-01-04T03:34:06.246674Z"
        },
        "trusted": true,
        "id": "ALg3RlXHjVtK",
        "outputId": "76b7cc51-54a6-44ef-8206-a1c0163f4e9f"
      },
      "execution_count": null,
      "outputs": [
        {
          "name": "stdout",
          "text": "SINGLE VECTORIZING OUTPUT:\n\n[1 1 1 1]\n",
          "output_type": "stream"
        }
      ]
    },
    {
      "cell_type": "code",
      "source": [
        "pred_test = clf.predict(transform_single)"
      ],
      "metadata": {
        "execution": {
          "iopub.status.busy": "2024-01-04T03:34:06.249958Z",
          "iopub.execute_input": "2024-01-04T03:34:06.251641Z",
          "iopub.status.idle": "2024-01-04T03:34:06.258926Z",
          "shell.execute_reply.started": "2024-01-04T03:34:06.251587Z",
          "shell.execute_reply": "2024-01-04T03:34:06.257359Z"
        },
        "trusted": true,
        "id": "1Y7Qw-XgjVtL"
      },
      "execution_count": null,
      "outputs": []
    },
    {
      "cell_type": "code",
      "source": [
        "print(f\"PREDICTION:\\n\\n{pred_test[0]}\")"
      ],
      "metadata": {
        "execution": {
          "iopub.status.busy": "2024-01-04T03:34:06.260593Z",
          "iopub.execute_input": "2024-01-04T03:34:06.262108Z",
          "iopub.status.idle": "2024-01-04T03:34:06.272869Z",
          "shell.execute_reply.started": "2024-01-04T03:34:06.262018Z",
          "shell.execute_reply": "2024-01-04T03:34:06.271054Z"
        },
        "trusted": true,
        "id": "Ho1OlpDZjVtL",
        "outputId": "a42a9441-cf35-4062-927a-427d423a047a"
      },
      "execution_count": null,
      "outputs": [
        {
          "name": "stdout",
          "text": "PREDICTION:\n\nsad,disappointed,regret,depressed,lonely\n",
          "output_type": "stream"
        }
      ]
    },
    {
      "cell_type": "code",
      "source": [
        "love_text = \"I LOVE YOU\"\n",
        "transform_love = vectorizer_train.transform([love_text])"
      ],
      "metadata": {
        "execution": {
          "iopub.status.busy": "2024-01-04T03:34:06.274928Z",
          "iopub.execute_input": "2024-01-04T03:34:06.276281Z",
          "iopub.status.idle": "2024-01-04T03:34:06.285902Z",
          "shell.execute_reply.started": "2024-01-04T03:34:06.276214Z",
          "shell.execute_reply": "2024-01-04T03:34:06.284442Z"
        },
        "trusted": true,
        "id": "g7I_0af9jVtL"
      },
      "execution_count": null,
      "outputs": []
    },
    {
      "cell_type": "code",
      "source": [
        "pred_love = clf.predict(transform_love)"
      ],
      "metadata": {
        "execution": {
          "iopub.status.busy": "2024-01-04T03:34:06.288079Z",
          "iopub.execute_input": "2024-01-04T03:34:06.288941Z",
          "iopub.status.idle": "2024-01-04T03:34:06.297529Z",
          "shell.execute_reply.started": "2024-01-04T03:34:06.288888Z",
          "shell.execute_reply": "2024-01-04T03:34:06.296090Z"
        },
        "trusted": true,
        "id": "3pajrKGUjVtL"
      },
      "execution_count": null,
      "outputs": []
    },
    {
      "cell_type": "code",
      "source": [
        "print(f\"PREDICTION:\\n\\n{pred_love[0]}\")"
      ],
      "metadata": {
        "execution": {
          "iopub.status.busy": "2024-01-04T03:34:06.299586Z",
          "iopub.execute_input": "2024-01-04T03:34:06.300889Z",
          "iopub.status.idle": "2024-01-04T03:34:06.309803Z",
          "shell.execute_reply.started": "2024-01-04T03:34:06.300823Z",
          "shell.execute_reply": "2024-01-04T03:34:06.308429Z"
        },
        "trusted": true,
        "id": "jjrdKJjojVtM",
        "outputId": "57b57a63-eec1-4132-8638-479322bc2c8a"
      },
      "execution_count": null,
      "outputs": [
        {
          "name": "stdout",
          "text": "PREDICTION:\n\njoy,happy,laugh,excited,surprise\n",
          "output_type": "stream"
        }
      ]
    },
    {
      "cell_type": "code",
      "source": [
        "additional_speech = \"When I see my wife's mother, suddenly I feel afraid of her thought of not let her go with me\"\n",
        "transform_additional = vectorizer_train.transform([additional_speech])"
      ],
      "metadata": {
        "execution": {
          "iopub.status.busy": "2024-01-04T03:34:06.312211Z",
          "iopub.execute_input": "2024-01-04T03:34:06.313984Z",
          "iopub.status.idle": "2024-01-04T03:34:06.322461Z",
          "shell.execute_reply.started": "2024-01-04T03:34:06.313928Z",
          "shell.execute_reply": "2024-01-04T03:34:06.320564Z"
        },
        "trusted": true,
        "id": "8KmxPptIjVtM"
      },
      "execution_count": null,
      "outputs": []
    },
    {
      "cell_type": "code",
      "source": [
        "pred_additional = clf.predict(transform_additional)"
      ],
      "metadata": {
        "execution": {
          "iopub.status.busy": "2024-01-04T03:34:06.325024Z",
          "iopub.execute_input": "2024-01-04T03:34:06.326479Z",
          "iopub.status.idle": "2024-01-04T03:34:06.334344Z",
          "shell.execute_reply.started": "2024-01-04T03:34:06.326410Z",
          "shell.execute_reply": "2024-01-04T03:34:06.332733Z"
        },
        "trusted": true,
        "id": "1go43DidjVtM"
      },
      "execution_count": null,
      "outputs": []
    },
    {
      "cell_type": "code",
      "source": [
        "print(f\"PREDICTION:\\n\\n{pred_additional[0]}\")"
      ],
      "metadata": {
        "execution": {
          "iopub.status.busy": "2024-01-04T03:34:06.336318Z",
          "iopub.execute_input": "2024-01-04T03:34:06.336811Z",
          "iopub.status.idle": "2024-01-04T03:34:06.348298Z",
          "shell.execute_reply.started": "2024-01-04T03:34:06.336761Z",
          "shell.execute_reply": "2024-01-04T03:34:06.346645Z"
        },
        "trusted": true,
        "id": "xvyNCu9yjVtM",
        "outputId": "69323a83-4f0a-4bf0-9fb8-04606ec0d37a"
      },
      "execution_count": null,
      "outputs": [
        {
          "name": "stdout",
          "text": "PREDICTION:\n\nafraid,scared,fear,terrified,nervous\n",
          "output_type": "stream"
        }
      ]
    },
    {
      "cell_type": "code",
      "source": [
        "text_II = \"We will go to another city and create a new life in there\"\n",
        "transform_text_II = vectorizer_train.transform([text_II])\n",
        "pred_text_II = clf.predict(transform_text_II)"
      ],
      "metadata": {
        "execution": {
          "iopub.status.busy": "2024-01-04T03:34:06.350506Z",
          "iopub.execute_input": "2024-01-04T03:34:06.351888Z",
          "iopub.status.idle": "2024-01-04T03:34:06.359573Z",
          "shell.execute_reply.started": "2024-01-04T03:34:06.351830Z",
          "shell.execute_reply": "2024-01-04T03:34:06.358149Z"
        },
        "trusted": true,
        "id": "WqfCqKjijVtN"
      },
      "execution_count": null,
      "outputs": []
    },
    {
      "cell_type": "code",
      "source": [
        "print(f\"PREDICTION:\\n\\n{pred_text_II[0]}\")"
      ],
      "metadata": {
        "execution": {
          "iopub.status.busy": "2024-01-04T03:34:06.361628Z",
          "iopub.execute_input": "2024-01-04T03:34:06.362538Z",
          "iopub.status.idle": "2024-01-04T03:34:06.372737Z",
          "shell.execute_reply.started": "2024-01-04T03:34:06.362470Z",
          "shell.execute_reply": "2024-01-04T03:34:06.371324Z"
        },
        "trusted": true,
        "id": "59VAk1eWjVtN",
        "outputId": "d69bf63d-8244-47cc-bcfa-d641bac0c591"
      },
      "execution_count": null,
      "outputs": [
        {
          "name": "stdout",
          "text": "PREDICTION:\n\nafraid,scared,fear,terrified,nervous\n",
          "output_type": "stream"
        }
      ]
    },
    {
      "cell_type": "code",
      "source": [],
      "metadata": {
        "id": "sXFww_fejVtO"
      },
      "execution_count": null,
      "outputs": []
    }
  ]
}